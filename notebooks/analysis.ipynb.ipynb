{
 "cells": [
  {
   "cell_type": "markdown",
   "id": "42e8a11f",
   "metadata": {},
   "source": [
    "Import"
   ]
  },
  {
   "cell_type": "code",
   "execution_count": null,
   "id": "ffa9e00e",
   "metadata": {},
   "outputs": [
    {
     "name": "stderr",
     "output_type": "stream",
     "text": [
      "WARNING (theano.configdefaults): g++ not available, if using conda: `conda install m2w64-toolchain`\n",
      "WARNING (theano.configdefaults): g++ not detected ! Theano will be unable to execute optimized C-implementations (for both CPU and GPU) and will default to Python implementations. Performance will be severely degraded. To remove this warning, set Theano flags cxx to an empty string.\n"
     ]
    },
    {
     "name": "stdout",
     "output_type": "stream",
     "text": [
      "WARN: Could not locate executable g77\n",
      "WARN: Could not locate executable f77\n",
      "WARN: Could not locate executable ifort\n",
      "WARN: Could not locate executable ifl\n",
      "WARN: Could not locate executable f90\n",
      "WARN: Could not locate executable DF\n",
      "WARN: Could not locate executable efl\n",
      "WARN: Could not locate executable gfortran\n",
      "WARN: Could not locate executable f95\n",
      "WARN: Could not locate executable g95\n",
      "WARN: Could not locate executable efort\n",
      "WARN: Could not locate executable efc\n",
      "WARN: Could not locate executable flang\n",
      "WARN: don't know how to compile Fortran code on platform 'nt'\n"
     ]
    },
    {
     "name": "stderr",
     "output_type": "stream",
     "text": [
      "WARNING (theano.tensor.blas): Using NumPy C-API based implementation for BLAS functions.\n"
     ]
    }
   ],
   "source": [
    "import sys\n",
    "import os\n",
    "sys.path.insert(0, os.path.abspath('../src'))\n",
    "\n",
    "from change_point_model import prepare_data, run_change_point_model, summarize_results, get_change_point, plot_change_point\n",
    "from data_analysis import load_data\n",
    "import pandas as pd"
   ]
  },
  {
   "cell_type": "markdown",
   "id": "700b185e",
   "metadata": {},
   "source": [
    "load data"
   ]
  },
  {
   "cell_type": "code",
   "execution_count": null,
   "id": "2ff75f3a",
   "metadata": {},
   "outputs": [],
   "source": [
    "df = load_data(\"../data/BrentOilPrices.csv\")"
   ]
  },
  {
   "cell_type": "markdown",
   "id": "2be77add",
   "metadata": {},
   "source": [
    "Prepare log returns"
   ]
  },
  {
   "cell_type": "code",
   "execution_count": null,
   "id": "99d057ca",
   "metadata": {},
   "outputs": [],
   "source": [
    "data, date_index = prepare_data(df)"
   ]
  },
  {
   "cell_type": "markdown",
   "id": "6f8b7ff4",
   "metadata": {},
   "source": [
    "Run Bayesian Change Point Model"
   ]
  },
  {
   "cell_type": "code",
   "execution_count": null,
   "id": "261cd73c",
   "metadata": {},
   "outputs": [],
   "source": [
    "trace = run_change_point_model(data)"
   ]
  },
  {
   "cell_type": "markdown",
   "id": "9587d3f1",
   "metadata": {},
   "source": [
    "Summarize results"
   ]
  },
  {
   "cell_type": "code",
   "execution_count": null,
   "id": "5209e0cd",
   "metadata": {},
   "outputs": [],
   "source": [
    "summarize_results(trace)"
   ]
  },
  {
   "cell_type": "markdown",
   "id": "03c3f1dd",
   "metadata": {},
   "source": [
    "Get change point"
   ]
  },
  {
   "cell_type": "code",
   "execution_count": null,
   "id": "7d7c63ce",
   "metadata": {},
   "outputs": [],
   "source": [
    "tau_index, change_point_date = get_change_point(trace, date_index)\n",
    "print(f\"Most probable change point index: {tau_index}\")\n",
    "print(f\"Most probable change point date: {change_point_date}\")"
   ]
  },
  {
   "cell_type": "markdown",
   "id": "5c8d4d4a",
   "metadata": {},
   "source": [
    "Plot change point"
   ]
  },
  {
   "cell_type": "code",
   "execution_count": null,
   "id": "0b0804e7",
   "metadata": {},
   "outputs": [],
   "source": [
    "plot_change_point(data, date_index, change_point_date)\n"
   ]
  }
 ],
 "metadata": {
  "kernelspec": {
   "display_name": ".venv",
   "language": "python",
   "name": "python3"
  },
  "language_info": {
   "codemirror_mode": {
    "name": "ipython",
    "version": 3
   },
   "file_extension": ".py",
   "mimetype": "text/x-python",
   "name": "python",
   "nbconvert_exporter": "python",
   "pygments_lexer": "ipython3",
   "version": "3.11.9"
  }
 },
 "nbformat": 4,
 "nbformat_minor": 5
}
