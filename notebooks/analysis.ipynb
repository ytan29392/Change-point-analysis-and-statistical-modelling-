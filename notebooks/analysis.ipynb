{
 "cells": [
  {
   "cell_type": "markdown",
   "id": "0372c1e2",
   "metadata": {},
   "source": [
    "Import functions from your script"
   ]
  },
  {
   "cell_type": "code",
   "execution_count": 5,
   "id": "60d622d9",
   "metadata": {},
   "outputs": [],
   "source": [
    "import sys\n",
    "import os\n",
    "sys.path.insert(0, os.path.abspath('../src'))\n",
    "\n",
    "import pandas as pd\n",
    "import matplotlib.pyplot as plt\n",
    "from data_analysis import load_data, check_stationarity, plot_price_series"
   ]
  },
  {
   "cell_type": "markdown",
   "id": "8f6923cd",
   "metadata": {},
   "source": [
    "Load dataset"
   ]
  },
  {
   "cell_type": "code",
   "execution_count": null,
   "id": "12ce79e4",
   "metadata": {},
   "outputs": [],
   "source": [
    "df = load_data(\"../data/BrentOilPrices.csv\")"
   ]
  },
  {
   "cell_type": "markdown",
   "id": "49be53fc",
   "metadata": {},
   "source": [
    "Explore data"
   ]
  },
  {
   "cell_type": "code",
   "execution_count": null,
   "id": "7fc71ebb",
   "metadata": {},
   "outputs": [],
   "source": [
    "df.head()"
   ]
  },
  {
   "cell_type": "markdown",
   "id": "966d9653",
   "metadata": {},
   "source": [
    "Plot"
   ]
  },
  {
   "cell_type": "code",
   "execution_count": null,
   "id": "057b1905",
   "metadata": {},
   "outputs": [],
   "source": [
    "plot_price_series(df)"
   ]
  },
  {
   "cell_type": "markdown",
   "id": "5ecbade7",
   "metadata": {},
   "source": [
    "Check stationarity"
   ]
  },
  {
   "cell_type": "code",
   "execution_count": null,
   "id": "b7037433",
   "metadata": {},
   "outputs": [],
   "source": [
    "check_stationarity(df['Price'])"
   ]
  }
 ],
 "metadata": {
  "kernelspec": {
   "display_name": ".venv",
   "language": "python",
   "name": "python3"
  },
  "language_info": {
   "codemirror_mode": {
    "name": "ipython",
    "version": 3
   },
   "file_extension": ".py",
   "mimetype": "text/x-python",
   "name": "python",
   "nbconvert_exporter": "python",
   "pygments_lexer": "ipython3",
   "version": "3.11.9"
  }
 },
 "nbformat": 4,
 "nbformat_minor": 5
}
