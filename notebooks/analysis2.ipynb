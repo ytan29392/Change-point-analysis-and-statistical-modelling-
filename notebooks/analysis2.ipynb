{
 "cells": [
  {
   "cell_type": "markdown",
   "id": "42e8a11f",
   "metadata": {},
   "source": [
    "Import"
   ]
  },
  {
   "cell_type": "code",
   "execution_count": 1,
   "id": "ffa9e00e",
   "metadata": {},
   "outputs": [
    {
     "name": "stderr",
     "output_type": "stream",
     "text": [
      "WARNING (theano.configdefaults): g++ not available, if using conda: `conda install m2w64-toolchain`\n",
      "WARNING (theano.configdefaults): g++ not detected ! Theano will be unable to execute optimized C-implementations (for both CPU and GPU) and will default to Python implementations. Performance will be severely degraded. To remove this warning, set Theano flags cxx to an empty string.\n"
     ]
    },
    {
     "name": "stdout",
     "output_type": "stream",
     "text": [
      "WARN: Could not locate executable g77\n",
      "WARN: Could not locate executable f77\n",
      "WARN: Could not locate executable ifort\n",
      "WARN: Could not locate executable ifl\n",
      "WARN: Could not locate executable f90\n",
      "WARN: Could not locate executable DF\n",
      "WARN: Could not locate executable efl\n",
      "WARN: Could not locate executable gfortran\n",
      "WARN: Could not locate executable f95\n",
      "WARN: Could not locate executable g95\n",
      "WARN: Could not locate executable efort\n",
      "WARN: Could not locate executable efc\n",
      "WARN: Could not locate executable flang\n",
      "WARN: don't know how to compile Fortran code on platform 'nt'\n"
     ]
    },
    {
     "name": "stderr",
     "output_type": "stream",
     "text": [
      "WARNING (theano.tensor.blas): Using NumPy C-API based implementation for BLAS functions.\n"
     ]
    },
    {
     "ename": "ImportError",
     "evalue": "cannot import name 'Tester' from 'numpy.testing' (e:\\kaim projec\\Change point analysis and statistical modelling\\.venv\\Lib\\site-packages\\numpy\\testing\\__init__.py)",
     "output_type": "error",
     "traceback": [
      "\u001b[31m---------------------------------------------------------------------------\u001b[39m",
      "\u001b[31mImportError\u001b[39m                               Traceback (most recent call last)",
      "\u001b[36mCell\u001b[39m\u001b[36m \u001b[39m\u001b[32mIn[1]\u001b[39m\u001b[32m, line 5\u001b[39m\n\u001b[32m      2\u001b[39m \u001b[38;5;28;01mimport\u001b[39;00m\u001b[38;5;250m \u001b[39m\u001b[34;01mos\u001b[39;00m\n\u001b[32m      3\u001b[39m sys.path.insert(\u001b[32m0\u001b[39m, os.path.abspath(\u001b[33m'\u001b[39m\u001b[33m../src\u001b[39m\u001b[33m'\u001b[39m))\n\u001b[32m----> \u001b[39m\u001b[32m5\u001b[39m \u001b[38;5;28;01mfrom\u001b[39;00m\u001b[38;5;250m \u001b[39m\u001b[34;01mchange_point_model\u001b[39;00m\u001b[38;5;250m \u001b[39m\u001b[38;5;28;01mimport\u001b[39;00m (\n\u001b[32m      6\u001b[39m     prepare_data, run_change_point_model, \n\u001b[32m      7\u001b[39m     summarize_results, get_change_point, plot_change_point,\n\u001b[32m      8\u001b[39m     calculate_impact, match_events)\n\u001b[32m      9\u001b[39m \u001b[38;5;28;01mfrom\u001b[39;00m\u001b[38;5;250m \u001b[39m\u001b[34;01mdata_analysis\u001b[39;00m\u001b[38;5;250m \u001b[39m\u001b[38;5;28;01mimport\u001b[39;00m load_data\n\u001b[32m     10\u001b[39m \u001b[38;5;28;01mimport\u001b[39;00m\u001b[38;5;250m \u001b[39m\u001b[34;01mpandas\u001b[39;00m\u001b[38;5;250m \u001b[39m\u001b[38;5;28;01mas\u001b[39;00m\u001b[38;5;250m \u001b[39m\u001b[34;01mpd\u001b[39;00m\n",
      "\u001b[36mFile \u001b[39m\u001b[32me:\\kaim projec\\Change point analysis and statistical modelling\\src\\change_point_model.py:2\u001b[39m\n\u001b[32m      1\u001b[39m \u001b[38;5;28;01mimport\u001b[39;00m\u001b[38;5;250m \u001b[39m\u001b[34;01mnumpy\u001b[39;00m\u001b[38;5;250m \u001b[39m\u001b[38;5;28;01mas\u001b[39;00m\u001b[38;5;250m \u001b[39m\u001b[34;01mnp\u001b[39;00m\n\u001b[32m----> \u001b[39m\u001b[32m2\u001b[39m \u001b[38;5;28;01mimport\u001b[39;00m\u001b[38;5;250m \u001b[39m\u001b[34;01mpymc3\u001b[39;00m\u001b[38;5;250m \u001b[39m\u001b[38;5;28;01mas\u001b[39;00m\u001b[38;5;250m \u001b[39m\u001b[34;01mpm\u001b[39;00m\n\u001b[32m      3\u001b[39m \u001b[38;5;28;01mimport\u001b[39;00m\u001b[38;5;250m \u001b[39m\u001b[34;01marviz\u001b[39;00m\u001b[38;5;250m \u001b[39m\u001b[38;5;28;01mas\u001b[39;00m\u001b[38;5;250m \u001b[39m\u001b[34;01maz\u001b[39;00m\n\u001b[32m      4\u001b[39m \u001b[38;5;28;01mimport\u001b[39;00m\u001b[38;5;250m \u001b[39m\u001b[34;01mmatplotlib\u001b[39;00m\u001b[34;01m.\u001b[39;00m\u001b[34;01mpyplot\u001b[39;00m\u001b[38;5;250m \u001b[39m\u001b[38;5;28;01mas\u001b[39;00m\u001b[38;5;250m \u001b[39m\u001b[34;01mplt\u001b[39;00m\n",
      "\u001b[36mFile \u001b[39m\u001b[32me:\\kaim projec\\Change point analysis and statistical modelling\\.venv\\Lib\\site-packages\\pymc3\\__init__.py:108\u001b[39m\n\u001b[32m    106\u001b[39m \u001b[38;5;28;01mfrom\u001b[39;00m\u001b[38;5;250m \u001b[39m\u001b[34;01mpymc3\u001b[39;00m\u001b[34;01m.\u001b[39;00m\u001b[34;01mstats\u001b[39;00m\u001b[38;5;250m \u001b[39m\u001b[38;5;28;01mimport\u001b[39;00m *\n\u001b[32m    107\u001b[39m \u001b[38;5;28;01mfrom\u001b[39;00m\u001b[38;5;250m \u001b[39m\u001b[34;01mpymc3\u001b[39;00m\u001b[34;01m.\u001b[39;00m\u001b[34;01mstep_methods\u001b[39;00m\u001b[38;5;250m \u001b[39m\u001b[38;5;28;01mimport\u001b[39;00m *\n\u001b[32m--> \u001b[39m\u001b[32m108\u001b[39m \u001b[38;5;28;01mfrom\u001b[39;00m\u001b[38;5;250m \u001b[39m\u001b[34;01mpymc3\u001b[39;00m\u001b[34;01m.\u001b[39;00m\u001b[34;01mtests\u001b[39;00m\u001b[38;5;250m \u001b[39m\u001b[38;5;28;01mimport\u001b[39;00m test\n\u001b[32m    109\u001b[39m \u001b[38;5;28;01mfrom\u001b[39;00m\u001b[38;5;250m \u001b[39m\u001b[34;01mpymc3\u001b[39;00m\u001b[34;01m.\u001b[39;00m\u001b[34;01mtheanof\u001b[39;00m\u001b[38;5;250m \u001b[39m\u001b[38;5;28;01mimport\u001b[39;00m *\n\u001b[32m    110\u001b[39m \u001b[38;5;28;01mfrom\u001b[39;00m\u001b[38;5;250m \u001b[39m\u001b[34;01mpymc3\u001b[39;00m\u001b[34;01m.\u001b[39;00m\u001b[34;01mtuning\u001b[39;00m\u001b[38;5;250m \u001b[39m\u001b[38;5;28;01mimport\u001b[39;00m *\n",
      "\u001b[36mFile \u001b[39m\u001b[32me:\\kaim projec\\Change point analysis and statistical modelling\\.venv\\Lib\\site-packages\\pymc3\\tests\\__init__.py:15\u001b[39m\n\u001b[32m      1\u001b[39m \u001b[38;5;66;03m#   Copyright 2020 The PyMC Developers\u001b[39;00m\n\u001b[32m      2\u001b[39m \u001b[38;5;66;03m#\u001b[39;00m\n\u001b[32m      3\u001b[39m \u001b[38;5;66;03m#   Licensed under the Apache License, Version 2.0 (the \"License\");\u001b[39;00m\n\u001b[32m   (...)\u001b[39m\u001b[32m     12\u001b[39m \u001b[38;5;66;03m#   See the License for the specific language governing permissions and\u001b[39;00m\n\u001b[32m     13\u001b[39m \u001b[38;5;66;03m#   limitations under the License.\u001b[39;00m\n\u001b[32m---> \u001b[39m\u001b[32m15\u001b[39m \u001b[38;5;28;01mfrom\u001b[39;00m\u001b[38;5;250m \u001b[39m\u001b[34;01mnumpy\u001b[39;00m\u001b[34;01m.\u001b[39;00m\u001b[34;01mtesting\u001b[39;00m\u001b[38;5;250m \u001b[39m\u001b[38;5;28;01mimport\u001b[39;00m Tester\n\u001b[32m     17\u001b[39m test = Tester().test\n",
      "\u001b[31mImportError\u001b[39m: cannot import name 'Tester' from 'numpy.testing' (e:\\kaim projec\\Change point analysis and statistical modelling\\.venv\\Lib\\site-packages\\numpy\\testing\\__init__.py)"
     ]
    }
   ],
   "source": [
    "import sys\n",
    "import os\n",
    "sys.path.insert(0, os.path.abspath('../src'))\n",
    "\n",
    "from change_point_model import (\n",
    "    prepare_data, run_change_point_model, \n",
    "    summarize_results, get_change_point, plot_change_point,\n",
    "    calculate_impact, match_events)\n",
    "from data_analysis import load_data\n",
    "import pandas as pd"
   ]
  },
  {
   "cell_type": "markdown",
   "id": "700b185e",
   "metadata": {},
   "source": [
    "load data"
   ]
  },
  {
   "cell_type": "code",
   "execution_count": null,
   "id": "2ff75f3a",
   "metadata": {},
   "outputs": [],
   "source": [
    "df = load_data(\"../data/BrentOilPrices.csv\")"
   ]
  },
  {
   "cell_type": "markdown",
   "id": "2be77add",
   "metadata": {},
   "source": [
    "Prepare log returns"
   ]
  },
  {
   "cell_type": "code",
   "execution_count": null,
   "id": "99d057ca",
   "metadata": {},
   "outputs": [],
   "source": [
    "data, date_index = prepare_data(df)"
   ]
  },
  {
   "cell_type": "markdown",
   "id": "6f8b7ff4",
   "metadata": {},
   "source": [
    "Run Bayesian Change Point Model"
   ]
  },
  {
   "cell_type": "code",
   "execution_count": null,
   "id": "261cd73c",
   "metadata": {},
   "outputs": [],
   "source": [
    "trace = run_change_point_model(data)"
   ]
  },
  {
   "cell_type": "markdown",
   "id": "9587d3f1",
   "metadata": {},
   "source": [
    "Summarize results"
   ]
  },
  {
   "cell_type": "code",
   "execution_count": null,
   "id": "5209e0cd",
   "metadata": {},
   "outputs": [],
   "source": [
    "summarize_results(trace)"
   ]
  },
  {
   "cell_type": "markdown",
   "id": "03c3f1dd",
   "metadata": {},
   "source": [
    "Get change point"
   ]
  },
  {
   "cell_type": "code",
   "execution_count": null,
   "id": "7d7c63ce",
   "metadata": {},
   "outputs": [],
   "source": [
    "tau_index, change_point_date = get_change_point(trace, date_index)\n",
    "print(f\"Most probable change point index: {tau_index}\")\n",
    "print(f\"Most probable change point date: {change_point_date}\")"
   ]
  },
  {
   "cell_type": "markdown",
   "id": "5c8d4d4a",
   "metadata": {},
   "source": [
    "Plot change point"
   ]
  },
  {
   "cell_type": "code",
   "execution_count": null,
   "id": "0b0804e7",
   "metadata": {},
   "outputs": [],
   "source": [
    "plot_change_point(data, date_index, change_point_date)\n"
   ]
  },
  {
   "cell_type": "markdown",
   "id": "740b0063",
   "metadata": {},
   "source": [
    "Calculate impact"
   ]
  },
  {
   "cell_type": "code",
   "execution_count": null,
   "id": "0de16189",
   "metadata": {},
   "outputs": [],
   "source": [
    "mu_1_mean, mu_2_mean, impact_pct = calculate_impact(trace)\n",
    "print(f\"Mean before: {mu_1_mean:.6f}, Mean after: {mu_2_mean:.6f}\")\n",
    "print(f\"Impact: {impact_pct:.2f}% change\")"
   ]
  },
  {
   "cell_type": "markdown",
   "id": "a98ee2dd",
   "metadata": {},
   "source": [
    "Load event dataset"
   ]
  },
  {
   "cell_type": "code",
   "execution_count": null,
   "id": "539912ee",
   "metadata": {},
   "outputs": [],
   "source": [
    "events_df = pd.read_csv(\"../data/key_events.csv\")"
   ]
  },
  {
   "cell_type": "markdown",
   "id": "415b14ee",
   "metadata": {},
   "source": [
    "Match with event"
   ]
  },
  {
   "cell_type": "code",
   "execution_count": null,
   "id": "c3e4009d",
   "metadata": {},
   "outputs": [],
   "source": [
    "event_name, event_date = match_event(change_point_date, events_df)\n",
    "if event_name:\n",
    "    print(f\"Closest event: {event_name} on {event_date.date()}\")\n",
    "else:\n",
    "    print(\"No matching event found within the threshold\")"
   ]
  },
  {
   "cell_type": "markdown",
   "id": "fcf36bdf",
   "metadata": {},
   "source": [
    "Summary table"
   ]
  },
  {
   "cell_type": "code",
   "execution_count": null,
   "id": "3824278a",
   "metadata": {},
   "outputs": [],
   "source": [
    "summary = {\n",
    "    \"Change Point Date\": [change_point_date],\n",
    "    \"Event\": [event_name if event_name else \"No Event\"],\n",
    "    \"Event Date\": [event_date if event_name else None],\n",
    "    \"Mean Before\": [mu_1_mean],\n",
    "    \"Mean After\": [mu_2_mean],\n",
    "    \"Impact (%)\": [impact_pct]\n",
    "}\n",
    "\n",
    "summary_df = pd.DataFrame(summary)\n",
    "summary_df.to_csv(\"../results/change_point_summary.csv\", index=False)\n",
    "summary_df\n"
   ]
  }
 ],
 "metadata": {
  "kernelspec": {
   "display_name": ".venv",
   "language": "python",
   "name": "python3"
  },
  "language_info": {
   "codemirror_mode": {
    "name": "ipython",
    "version": 3
   },
   "file_extension": ".py",
   "mimetype": "text/x-python",
   "name": "python",
   "nbconvert_exporter": "python",
   "pygments_lexer": "ipython3",
   "version": "3.11.9"
  }
 },
 "nbformat": 4,
 "nbformat_minor": 5
}
